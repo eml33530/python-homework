{
 "cells": [
  {
   "cell_type": "code",
   "execution_count": 61,
   "id": "unknown-salmon",
   "metadata": {},
   "outputs": [],
   "source": [
    "import pandas as pd\n",
    "import numpy_financial as npf\n",
    "import numpy as np\n"
   ]
  },
  {
   "cell_type": "code",
   "execution_count": 5,
   "id": "fatty-roots",
   "metadata": {},
   "outputs": [],
   "source": [
    "from pathlib import Path"
   ]
  },
  {
   "cell_type": "code",
   "execution_count": null,
   "id": "fuzzy-outline",
   "metadata": {},
   "outputs": [],
   "source": [
    "### Homework PyBank"
   ]
  },
  {
   "cell_type": "code",
   "execution_count": null,
   "id": "continuing-strand",
   "metadata": {},
   "outputs": [],
   "source": [
    "# Your task is to create a Python script that analyzes the records to calculate each of the following:\n",
    "\n",
    "# The total number of months included in the dataset.\n",
    "# The net total amount of Profit/Losses over the entire period.\n",
    "# The average of the changes in Profit/Losses over the entire period.\n",
    "# The greatest increase in profits (date and amount) over the entire period.\n",
    "# The greatest decrease in losses (date and amount) over the entire period.\n",
    "\n",
    "\n",
    "#   Financial Analysis\n",
    "# ----------------------------\n",
    "# Total Months: 86\n",
    "# Total: $38,382,578\n",
    "# Average Change: $-2315.12\n",
    "# Greatest Increase in Profits: Feb-2012 ($1,926,159)\n",
    "# Greatest Decrease in Profits: Sep-2013 ($-2,196,167)\n"
   ]
  },
  {
   "cell_type": "code",
   "execution_count": 6,
   "id": "municipal-builder",
   "metadata": {},
   "outputs": [
    {
     "name": "stdout",
     "output_type": "stream",
     "text": [
      "current working directory:C:\\Users\\ericm\\OneDrive\\Desktop\\python-homework\\PyBank\n"
     ]
    }
   ],
   "source": [
    "print(f\"current working directory:{Path.cwd()}\")"
   ]
  },
  {
   "cell_type": "code",
   "execution_count": 108,
   "id": "forty-potential",
   "metadata": {},
   "outputs": [
    {
     "name": "stdout",
     "output_type": "stream",
     "text": [
      "Financial Analysis\n",
      "--------------------\n",
      "Total Months: 86\n",
      "Total: $38382578\n",
      "Average Change: $-2315.12\n",
      "Greatest Increase in Profits: Feb-2012 ($1926159)\n",
      "Greatest Decrease in Profits: Sep-2013 ($-2196167)\n",
      "\n"
     ]
    }
   ],
   "source": [
    "import os\n",
    "import csv\n",
    "\n",
    "# set you file path for txt file and import csv\n",
    "csvpath=os.path.join(\"Resources\", \"budget_data.csv\")\n",
    "txtpath=os.path.join(\"Analysis\", \"BudgetAnalysis.txt\")\n",
    "\n",
    "# define your variables\n",
    "total_months=0\n",
    "net_pnl=0\n",
    "avg_pnl=0\n",
    "net_change_list=[]\n",
    "greatest_increase = [\"\", 0]\n",
    "greatest_decrease = [\"\", 9999999999999999999]\n",
    "\n",
    "\n",
    "with open(csvpath,'r') as csvfile:\n",
    "    csvreader=csv.reader(csvfile, delimiter=',')\n",
    "    header=next(csvreader)\n",
    "    # handle first row of data\n",
    "    \n",
    "    first_row=next(csvreader)\n",
    "    total_months+=1\n",
    "    net_pnl+=int(first_row[1])  \n",
    "    previous_net_pnl=int(first_row[1])\n",
    "    \n",
    "    #for loop\n",
    "    \n",
    "    for i in csvreader:\n",
    "        total_months+=1\n",
    "        net_pnl+= int(i[1])\n",
    "        net_change=int(i[1])-previous_net_pnl\n",
    "        previous_net_pnl=int(i[1])\n",
    "        net_change_list.append(net_change)\n",
    "        \n",
    "        if net_change < greatest_decrease[1]:\n",
    "            greatest_decrease[1] = net_change\n",
    "            greatest_decrease[0] = i[0]\n",
    "        if net_change > greatest_increase[1]:\n",
    "            greatest_increase[1] = net_change\n",
    "            greatest_increase[0] = i[0]\n",
    "    \n",
    "\n",
    "avg_change=sum(net_change_list)/len(net_change_list)\n",
    "\n",
    "output = (\n",
    "    f\"Financial Analysis\\n\"\n",
    "    f\"--------------------\\n\"\n",
    "    f\"Total Months: {total_months}\\n\"\n",
    "    f\"Total: ${net_pnl}\\n\"\n",
    "    f\"Average Change: ${avg_change:.2f}\\n\"\n",
    "    f\"Greatest Increase in Profits: {greatest_increase[0]} (${greatest_increase[1]})\\n\"\n",
    "    f\"Greatest Decrease in Profits: {greatest_decrease[0]} (${greatest_decrease[1]})\\n\")\n",
    "\n",
    "print(output)\n",
    "\n",
    "\n",
    "with open(txtpath,'w') as text:\n",
    "    text.write(output)\n",
    "\n"
   ]
  },
  {
   "cell_type": "code",
   "execution_count": null,
   "id": "tracked-pursuit",
   "metadata": {},
   "outputs": [],
   "source": []
  },
  {
   "cell_type": "code",
   "execution_count": null,
   "id": "alive-america",
   "metadata": {},
   "outputs": [],
   "source": []
  },
  {
   "cell_type": "code",
   "execution_count": null,
   "id": "military-warehouse",
   "metadata": {},
   "outputs": [],
   "source": []
  }
 ],
 "metadata": {
  "kernelspec": {
   "display_name": "Python 3",
   "language": "python",
   "name": "python3"
  },
  "language_info": {
   "codemirror_mode": {
    "name": "ipython",
    "version": 3
   },
   "file_extension": ".py",
   "mimetype": "text/x-python",
   "name": "python",
   "nbconvert_exporter": "python",
   "pygments_lexer": "ipython3",
   "version": "3.8.5"
  }
 },
 "nbformat": 4,
 "nbformat_minor": 5
}
